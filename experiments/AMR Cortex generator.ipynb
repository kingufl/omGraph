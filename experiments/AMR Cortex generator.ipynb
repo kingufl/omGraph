{
 "cells": [
  {
   "cell_type": "code",
   "execution_count": 12,
   "metadata": {
    "collapsed": false
   },
   "outputs": [],
   "source": [
    "import Bio\n",
    "import Bio.SeqIO\n",
    "import re\n",
    "import matplotlib.pyplot as plt\n",
    "%matplotlib inline"
   ]
  },
  {
   "cell_type": "code",
   "execution_count": 9,
   "metadata": {
    "collapsed": false
   },
   "outputs": [],
   "source": [
    "gene_strings = \"\"\"AmpH & 5,021 & 5,021 & 1\n",
    "OKP-B-4 & 4,407 & 4,407 & 1\n",
    "NDM-6 & 4,327 & 4,327 & 1\n",
    "MAL-1 & 4,507 & 4,507 & 1\n",
    "MOX-2 & 4,987 & 4,987 & 1\n",
    "TLA-1 & 4,513 & 4,513 & 1\n",
    "SED-1 & 4,475 & 4,475 & 1\n",
    "TEM-1 & 4,321 & 4,321 & 1\n",
    "TLA-1-1 & 4,593 & 4,513 & 0.982582\n",
    "NDM-5 & 4,323 & 4,137 & 0.956974\n",
    "BLA-I & 3,463 & 2,763 & 0.797863\n",
    "OKP-A-1 & 4,413 & 3,299 & 0.747564\n",
    "Mbl & 4,093 & 2,763 & 0.675055\n",
    "IND-1 & 4,139 & 2,763 & 0.667553\n",
    "CGB-1 & 4,157 & 2,763 & 0.664662\n",
    "GIM-1 & 4,207 & 2,763 & 0.656763\n",
    "LEN-1 & 4,377 & 2,853 & 0.651816\n",
    "LCR-1 & 4,257 & 2,763 & 0.649049\n",
    "Nps1 & 4,261 & 2,763 & 0.648439\n",
    "VIM-1 & 4,301 & 2,763 & 0.642409\n",
    "OXA-1 & 4,363 & 2,763 & 0.63328\n",
    "MOX-1 & 4,987 & 3,153 & 0.632244\n",
    "Z32 & 4,391 & 2,763 & 0.629242\n",
    "SHV-1 & 4,423 & 2,783 & 0.629211\n",
    "BEL-1 & 4,403 & 2,763 & 0.627527\n",
    "CARB-1 & 4,437 & 2,763 & 0.622718\n",
    "OXY-1-5 & 4,441 & 2,763 & 0.622157\n",
    "IMI-1 & 4,445 & 2,763 & 0.621597\n",
    "CTX-M-1 & 4,449 & 2,763 & 0.621038\n",
    "NMC-A & 4,457 & 2,763 & 0.619924\n",
    "BES-1 & 4,459 & 2,763 & 0.619646\n",
    "KPC-1 & 4,463 & 2,763 & 0.61909\n",
    "SME-1 & 4,469 & 2,763 & 0.618259\n",
    "CME-1 & 4,477 & 2,763 & 0.617154\n",
    "Lut-1 & 4,481 & 2,763 & 0.616603\n",
    "FAR-1 & 4,489 & 2,763 & 0.615505\n",
    "VEB-1 & 4,499 & 2,763 & 0.614136\n",
    "AIM-1 & 4,525 & 2,763 & 0.610608\n",
    "AER-1 & 4,531 & 2,763 & 0.609799\n",
    "ROB-1 & 4,535 & 2,763 & 0.609261\n",
    "SFC-1-1 & 4,559 & 2,763 & 0.606054\n",
    "cfxA & 4,635 & 2,763 & 0.596116\n",
    "cphA1 & 4,663 & 2,763 & 0.592537\n",
    "CMG & 4,795 & 2,763 & 0.576225\n",
    "ACT-1 & 4,977 & 2,763 & 0.555154\n",
    "MIR-1 & 4,977 & 2,763 & 0.555154\n",
    "MOR & 4,979 & 2,763 & 0.554931\n",
    "Amp & 4,993 & 2,763 & 0.553375\n",
    "FOX-1 & 4,999 & 2,763 & 0.552711\n",
    "PAO-1 & 5,089 & 2,763 & 0.542936\n",
    "PENA & 6,137 & 2,763 & 0.45022\n",
    "PBP & 6,505 & 2,763 & 0.42475\n",
    "lmrD & 6,675 & 2,763 & 0.413933\n",
    "MECA & 6,713 & 2,763 & 0.411589\"\"\""
   ]
  },
  {
   "cell_type": "code",
   "execution_count": 10,
   "metadata": {
    "collapsed": true
   },
   "outputs": [],
   "source": [
    "amr_db_fname = \"/s/bovine/index/databases/resistance_databases/databases/production_resistance_database.fasta\""
   ]
  },
  {
   "cell_type": "code",
   "execution_count": 30,
   "metadata": {
    "collapsed": false
   },
   "outputs": [
    {
     "data": {
      "text/plain": [
       "4309"
      ]
     },
     "execution_count": 30,
     "metadata": {},
     "output_type": "execute_result"
    }
   ],
   "source": [
    "numseqs = 0\n",
    "amr_dir = \"/s/chopin/h/proj/soma/cdbg/amr\"\n",
    "makefile = open(amr_dir + \"/Makefile\", \"w\")\n",
    "all_colors = open(amr_dir + \"/all_colors\", \"w\")\n",
    "targets = []\n",
    "with open(amr_db_fname) as handle:\n",
    "    for seq in Bio.SeqIO.parse(handle, format=\"fasta\"):\n",
    "        gene_name = seq.id.split(\"|\")[1]\n",
    "        if True or gene_name in gene_name_set:\n",
    "            numseqs += 1\n",
    "            with open(amr_dir + \"/\" + gene_name + \".fna\", \"w\") as out_seq:\n",
    "                Bio.SeqIO.write(seq, out_seq, \"fasta\")\n",
    "            with open(amr_dir + \"/\" + gene_name + \".fna.list\", \"w\") as out_list:\n",
    "                out_list.write(gene_name + \".fna\\n\")\n",
    "            with open(amr_dir + \"/\" + gene_name + \".fna.ctx.list\", \"w\") as out_list:\n",
    "                out_list.write(gene_name + \".fna.ctx\\n\")\n",
    "            all_colors.write(gene_name + \".fna.ctx.list\\n\")\n",
    "            target = gene_name + \".fna.ctx\"\n",
    "            makefile.write(target +\":\\n\")\n",
    "            makefile.write(\"\\t\" + \n",
    "                           \"/s/oak/b/nobackup/muggli/src/CORTEX_release_v1.0.5.21/bin/cortex_var_31_c4309 --kmer_size 31 --se_list '\" + \n",
    "                           gene_name + \n",
    "                           \".fna.list' --mem_height 17 --mem_width 100 --dump_binary '\" + gene_name + \".fna.ctx'\" + \"\\n\\n\")\n",
    "            targets.append(target) \n",
    "            \n",
    "makefile.write(\"all: \" + \" \".join(targets) + \"\\n\")\n",
    "makefile.close()\n",
    "all_colors.close()\n",
    "numseqs"
   ]
  },
  {
   "cell_type": "code",
   "execution_count": 16,
   "metadata": {
    "collapsed": false
   },
   "outputs": [],
   "source": [
    "gene_names = [s.split(\" \")[0] for s in gene_strings.split(\"\\n\")]"
   ]
  },
  {
   "cell_type": "code",
   "execution_count": 18,
   "metadata": {
    "collapsed": false
   },
   "outputs": [],
   "source": [
    "gene_name_set = set(gene_names)"
   ]
  },
  {
   "cell_type": "code",
   "execution_count": 28,
   "metadata": {
    "collapsed": false
   },
   "outputs": [
    {
     "data": {
      "text/plain": [
       "12.073137383110383"
      ]
     },
     "execution_count": 28,
     "metadata": {},
     "output_type": "execute_result"
    }
   ],
   "source": [
    "import math\n",
    "math.log2(4309)"
   ]
  },
  {
   "cell_type": "code",
   "execution_count": 33,
   "metadata": {
    "collapsed": false
   },
   "outputs": [
    {
     "data": {
      "text/plain": [
       "(array([    3.,    11.,    32.,    68.,   138.,   117.,   247.,   876.,\n",
       "         1380.,   162.,   158.,   448.,    92.,    49.,    51.,    42.,\n",
       "           20.,    17.,    26.,    74.]),\n",
       " array([   45.  ,   142.65,   240.3 ,   337.95,   435.6 ,   533.25,\n",
       "          630.9 ,   728.55,   826.2 ,   923.85,  1021.5 ,  1119.15,\n",
       "         1216.8 ,  1314.45,  1412.1 ,  1509.75,  1607.4 ,  1705.05,\n",
       "         1802.7 ,  1900.35,  1998.  ]),\n",
       " <a list of 20 Patch objects>)"
      ]
     },
     "execution_count": 33,
     "metadata": {},
     "output_type": "execute_result"
    },
    {
     "data": {
      "image/png": "[encoded data removed]",
      "text/plain": [
       "<matplotlib.figure.Figure at 0x7ff753e31518>"
      ]
     },
     "metadata": {},
     "output_type": "display_data"
    }
   ],
   "source": [
    "lengths = []\n",
    "with open(amr_db_fname) as handle:\n",
    "    for seq in Bio.SeqIO.parse(handle, format=\"fasta\"):\n",
    "        lengths.append(len(seq))\n",
    "plt.hist([l for l in lengths if l < 2000],bins=20)"
   ]
  }
 ],
 "metadata": {
  "kernelspec": {
   "display_name": "Python 3",
   "language": "python",
   "name": "python3"
  },
  "language_info": {
   "codemirror_mode": {
    "name": "ipython",
    "version": 3
   },
   "file_extension": ".py",
   "mimetype": "text/x-python",
   "name": "python",
   "nbconvert_exporter": "python",
   "pygments_lexer": "ipython3",
   "version": "3.5.1"
  }
 },
 "nbformat": 4,
 "nbformat_minor": 0
}
