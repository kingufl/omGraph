{
 "cells": [
  {
   "cell_type": "code",
   "execution_count": 2,
   "metadata": {
    "collapsed": true
   },
   "outputs": [],
   "source": [
    "import Bio.SeqIO\n",
    "import re\n",
    "import matplotlib.pyplot as plt\n",
    "%matplotlib inline"
   ]
  },
  {
   "cell_type": "code",
   "execution_count": 33,
   "metadata": {
    "collapsed": false
   },
   "outputs": [],
   "source": [
    "\n",
    "\n",
    "flankid_re = re.compile(r\"var_(\\d+)_(\\dp)_flank\")\n",
    "branchid_re = re.compile(r\"var_(\\d+)_branch_(\\d)\")\n",
    "def parse_cortex(cortex_fname):\n",
    "    cortex_bubbles = []\n",
    "    with open(cortex_fname) as h:\n",
    "        for seq in Bio.SeqIO.parse(h, \"fasta\"):\n",
    "            mobj = flankid_re.search(seq.id)\n",
    "            if mobj:\n",
    "                bubbleno = int(mobj.group(1))\n",
    "                if bubbleno > len(cortex_bubbles): cortex_bubbles.append([])\n",
    "                if mobj.group(2) == \"5p\":\n",
    "                    cortex_bubbles[-1].append(seq.seq)\n",
    "                if mobj.group(2) == \"3p\":\n",
    "                    cortex_bubbles[-1].append(seq.seq)\n",
    "            mobj = branchid_re.search(seq.id)\n",
    "            if mobj:\n",
    "                cortex_bubbles[-1].append(seq.seq)\n",
    "    return cortex_bubbles\n",
    "            \n",
    "    "
   ]
  },
  {
   "cell_type": "code",
   "execution_count": 29,
   "metadata": {
    "collapsed": false
   },
   "outputs": [],
   "source": [
    "sflankstr_re = re.compile(r\"Start flank: (\\S+) c: (\\d+):(\\d+)\")\n",
    "branchstr_re = re.compile(r\"Branch: (\\S+)\")\n",
    "eflankstr_re = re.compile(r\"End flank: (\\S+)\")\n",
    "def parse_cosmo(cosmo_fname):\n",
    "    cosmo_bubbles = []\n",
    "    with open(cosmo_fname) as h:\n",
    "        for line in h:\n",
    "            mobj = sflankstr_re.search(line)\n",
    "            if mobj:\n",
    "                cosmo_bubbles.append([Bio.Seq.Seq(mobj.group(1))])\n",
    "            mobj = branchstr_re.search(line)\n",
    "            if mobj:\n",
    "                cosmo_bubbles[-1].append(Bio.Seq.Seq(mobj.group(1)))\n",
    "            mobj = eflankstr_re.search(line)\n",
    "            if mobj:\n",
    "                cosmo_bubbles[-1].append(Bio.Seq.Seq(mobj.group(1)))\n",
    "    return cosmo_bubbles\n"
   ]
  },
  {
   "cell_type": "code",
   "execution_count": 35,
   "metadata": {
    "collapsed": false
   },
   "outputs": [],
   "source": [
    "def diff(cortex_bubbles, cosmo_bubbles, kmer_size):\n",
    "    cosmo_starts = {seq[0][-kmer_size:] for seq in cosmo_bubbles}  \n",
    "\n",
    "    missing_bubbles = []\n",
    "    found_bubbles = []\n",
    "    for bubble in cortex_bubbles:\n",
    "        qseq = bubble[0]\n",
    "        eqseq = bubble[3]\n",
    "        if str(qseq[-kmer_size:]) not in cosmo_starts and str(eqseq[:kmer_size].reverse_complement()) not in cosmo_starts:\n",
    "            missing_bubbles.append(bubble)\n",
    "        else:\n",
    "            found_bubbles.append(bubble)\n",
    "    return found_bubbles, missing_bubbles\n"
   ]
  },
  {
   "cell_type": "code",
   "execution_count": 100,
   "metadata": {
    "collapsed": false
   },
   "outputs": [
    {
     "name": "stdout",
     "output_type": "stream",
     "text": [
      "CPU times: user 55.9 s, sys: 3.67 s, total: 59.6 s\n",
      "Wall time: 59.9 s\n"
     ]
    }
   ],
   "source": [
    "%%time\n",
    "\n",
    "plants_dir = \"/s/chopin/h/proj/soma/cdbg/plants/\"\n",
    "\n",
    "cortex_outfile = \"bubbles_cortex.txt\"\n",
    "cosmo_outfile = \"cosmo-color.martin.bovine-opt.stdout\"\n",
    "\n",
    "cortex_bubbles = parse_cortex(plants_dir + cortex_outfile)\n",
    "cosmo_bubbles = parse_cosmo(plants_dir + cosmo_outfile)\n",
    "found_bubbles, missing_bubbles = diff(cortex_bubbles, cosmo_bubbles)\n",
    "len(missing_bubbles), len(found_bubbles)"
   ]
  },
  {
   "cell_type": "code",
   "execution_count": 102,
   "metadata": {
    "collapsed": false
   },
   "outputs": [
    {
     "data": {
      "text/plain": [
       "(50026, 407603)"
      ]
     },
     "execution_count": 102,
     "metadata": {},
     "output_type": "execute_result"
    }
   ],
   "source": [
    "len(missing_bubbles), len(found_bubbles)"
   ]
  },
  {
   "cell_type": "code",
   "execution_count": 114,
   "metadata": {
    "collapsed": false
   },
   "outputs": [
    {
     "name": "stdout",
     "output_type": "stream",
     "text": [
      "[51, 76, 32, 32, 67, 59, 32]\n"
     ]
    },
    {
     "data": {
      "text/plain": [
       "(array([ 3.,  0.,  0.,  0.,  0.,  0.,  0.,  0.,  0.,  0.,  0.,  0.,  1.,\n",
       "         0.,  0.,  0.,  0.,  0.,  1.,  0.,  0.,  0.,  0.,  1.,  0.,  0.,\n",
       "         0.,  0.,  0.,  1.]),\n",
       " array([ 32.        ,  33.46666667,  34.93333333,  36.4       ,\n",
       "         37.86666667,  39.33333333,  40.8       ,  42.26666667,\n",
       "         43.73333333,  45.2       ,  46.66666667,  48.13333333,\n",
       "         49.6       ,  51.06666667,  52.53333333,  54.        ,\n",
       "         55.46666667,  56.93333333,  58.4       ,  59.86666667,\n",
       "         61.33333333,  62.8       ,  64.26666667,  65.73333333,\n",
       "         67.2       ,  68.66666667,  70.13333333,  71.6       ,\n",
       "         73.06666667,  74.53333333,  76.        ]),\n",
       " <a list of 30 Patch objects>)"
      ]
     },
     "execution_count": 114,
     "metadata": {},
     "output_type": "execute_result"
    },
    {
     "data": {
      "image/png": "[encoded data removed]",
      "text/plain": [
       "<matplotlib.figure.Figure at 0x7fad935d30b8>"
      ]
     },
     "metadata": {},
     "output_type": "display_data"
    }
   ],
   "source": [
    "flanking_supernode_lengths =[y for y in (min(len(x[1]) , len(x[2])) for x in missing_bubbles )]\n",
    "print(flanking_supernode_lengths)\n",
    "plt.hist(flanking_supernode_lengths, bins=30)"
   ]
  },
  {
   "cell_type": "code",
   "execution_count": 34,
   "metadata": {
    "collapsed": false
   },
   "outputs": [
    {
     "data": {
      "text/plain": [
       "48421"
      ]
     },
     "execution_count": 34,
     "metadata": {},
     "output_type": "execute_result"
    }
   ],
   "source": [
    "len([x for x in missing_lengths if x == 32])"
   ]
  },
  {
   "cell_type": "code",
   "execution_count": 38,
   "metadata": {
    "collapsed": false
   },
   "outputs": [
    {
     "data": {
      "text/plain": [
       "[SeqRecord(seq=Seq('CTCTTACGGGGCAGGGCGTTACGGTCATGC', SingleLetterAlphabet()), id='var_46_5p_flank', name='var_46_5p_flank', description='var_46_5p_flank length:32 INFO:KMER=31', dbxrefs=[]),\n",
       " SeqRecord(seq=Seq('ACTTTAATATCTATTCATGAGCTCACTAGAGA', SingleLetterAlphabet()), id='var_46_branch_1', name='var_46_branch_1', description='var_46_branch_1 length:32 kmer:31', dbxrefs=[]),\n",
       " SeqRecord(seq=Seq('TCTTTAATATCTATTCATGAGCTCACTAGAGA', SingleLetterAlphabet()), id='var_46_branch_2', name='var_46_branch_2', description='var_46_branch_2 length:32 kmer:31', dbxrefs=[]),\n",
       " SeqRecord(seq=Seq('G', SingleLetterAlphabet()), id='var_46_3p_flank', name='var_46_3p_flank', description='var_46_3p_flank length:1 kmer:31', dbxrefs=[])]"
      ]
     },
     "execution_count": 38,
     "metadata": {},
     "output_type": "execute_result"
    }
   ],
   "source": [
    "missing_bubbles[2]"
   ]
  },
  {
   "cell_type": "code",
   "execution_count": 62,
   "metadata": {
    "collapsed": false
   },
   "outputs": [
    {
     "data": {
      "text/plain": [
       "(array([     0.,      0.,      0.,      0.,      0.,      0.,      0.,\n",
       "             0.,      0.,      0.,      0.,      0.,      0.,      0.,\n",
       "             0.,  96543.,      0.,      0.,      0.,      0.,      0.,\n",
       "             0.,      0.,      0.,      0.,      0.,      0.,      0.,\n",
       "             0.,      0.]),\n",
       " array([ 29.5       ,  29.53333333,  29.56666667,  29.6       ,\n",
       "         29.63333333,  29.66666667,  29.7       ,  29.73333333,\n",
       "         29.76666667,  29.8       ,  29.83333333,  29.86666667,\n",
       "         29.9       ,  29.93333333,  29.96666667,  30.        ,\n",
       "         30.03333333,  30.06666667,  30.1       ,  30.13333333,\n",
       "         30.16666667,  30.2       ,  30.23333333,  30.26666667,\n",
       "         30.3       ,  30.33333333,  30.36666667,  30.4       ,\n",
       "         30.43333333,  30.46666667,  30.5       ]),\n",
       " <a list of 30 Patch objects>)"
      ]
     },
     "execution_count": 62,
     "metadata": {},
     "output_type": "execute_result"
    },
    {
     "data": {
      "image/png": "[encoded data removed]",
      "text/plain": [
       "<matplotlib.figure.Figure at 0x7fad26b449b0>"
      ]
     },
     "metadata": {},
     "output_type": "display_data"
    }
   ],
   "source": [
    "plt.hist([len(x[3]) for x in cortex_bubbles if len(x[3]) ==30], bins=30)"
   ]
  },
  {
   "cell_type": "code",
   "execution_count": 47,
   "metadata": {
    "collapsed": false
   },
   "outputs": [
    {
     "data": {
      "text/plain": [
       "5506"
      ]
     },
     "execution_count": 47,
     "metadata": {},
     "output_type": "execute_result"
    }
   ],
   "source": [
    "len([len(x[1]) for x in found_bubbles if len(x[1]) ==33 and len(x[2]) == 33])"
   ]
  },
  {
   "cell_type": "raw",
   "metadata": {
    "collapsed": true
   },
   "source": [
    "2"
   ]
  },
  {
   "cell_type": "code",
   "execution_count": 13,
   "metadata": {
    "collapsed": false
   },
   "outputs": [
    {
     "name": "stderr",
     "output_type": "stream",
     "text": [
      "/s/chopin/l/grad/muggli/py3.5env/lib/python3.5/site-packages/Bio/Seq.py:152: BiopythonWarning: Biopython Seq objects now use string comparison. Older versions of Biopython used object comparison. During this transition, please use hash(id(my_seq)) or my_dict[id(my_seq)] if you want the old behaviour, or use hash(str(my_seq)) or my_dict[str(my_seq)] for the new string hashing behaviour.\n",
      "  \"the new string hashing behaviour.\", BiopythonWarning)\n"
     ]
    },
    {
     "data": {
      "text/plain": [
       "(4, 461)"
      ]
     },
     "execution_count": 13,
     "metadata": {},
     "output_type": "execute_result"
    }
   ],
   "source": [
    "cortex_bubbles = parse_cortex(\"ecoli/bubbles_cortex.txt\")\n",
    "#cortex_bubbles = parse_cortex(\"ecoli/bubbles29.fasta\")\n",
    "cosmo_bubbles = parse_cosmo(\"ecoli/cosmo-color.stdout.martin\")\n",
    "cosmo_bubbles2 = parse_cosmo(\"ecoli/cosmo-color-kmc4.stdout\")\n",
    "cosmo_bubbles3 = parse_cosmo(\"ecoli/refactored.stdout\")\n",
    "found_bubbles, missing_bubbles = diff(cortex_bubbles, cosmo_bubbles2, 30)\n",
    "len(missing_bubbles), len(found_bubbles)"
   ]
  },
  {
   "cell_type": "code",
   "execution_count": 124,
   "metadata": {
    "collapsed": false
   },
   "outputs": [
    {
     "data": {
      "text/plain": [
       "'GCCATACTGCGTCATGTCGCCCTGACGCGC\",\"GCAGGTTCGAATCCTGCACGACCCACCAAT\",\"GCTTAACCTCACAACCCGAAGATGTTTCTT\",\"AAAACCCGCCGAAGCGGGTTTTTACGTAAA\",\"AATCCTGCACGACCCACCAGTTTTAACATC\",\"AGAGTTCCCCGCGCCAGCGGGGATAAACCG\",\"GAATACGTGCGCAACAACCGTCTTCCGGAG'"
      ]
     },
     "execution_count": 124,
     "metadata": {},
     "output_type": "execute_result"
    }
   ],
   "source": [
    "'\",\"'.join([str(x[0][-30:].seq) for x in missing_bubbles])"
   ]
  },
  {
   "cell_type": "code",
   "execution_count": 52,
   "metadata": {
    "collapsed": false
   },
   "outputs": [
    {
     "data": {
      "text/plain": [
       "[Seq('TTTACGTAAAAACCCGCTTCGGCGGGTTTTT', SingleLetterAlphabet()),\n",
       " Seq('AAAAACCCGCCGAAGCGGGTTTTTACGTAAA', SingleLetterAlphabet()),\n",
       " Seq('CAGAGTTCCCCGCGCCAGCGGGGATAAACCG', SingleLetterAlphabet())]"
      ]
     },
     "execution_count": 52,
     "metadata": {},
     "output_type": "execute_result"
    }
   ],
   "source": [
    "[x[0] for x in cortex_bubbles if len(x[0]) == 31]"
   ]
  },
  {
   "cell_type": "code",
   "execution_count": 10,
   "metadata": {
    "collapsed": false
   },
   "outputs": [
    {
     "data": {
      "text/plain": [
       "933"
      ]
     },
     "execution_count": 10,
     "metadata": {},
     "output_type": "execute_result"
    }
   ],
   "source": [
    "len(cosmo_bubbles3\n",
    ")"
   ]
  }
 ],
 "metadata": {
  "kernelspec": {
   "display_name": "Python 3",
   "language": "python",
   "name": "python3"
  },
  "language_info": {
   "codemirror_mode": {
    "name": "ipython",
    "version": 3
   },
   "file_extension": ".py",
   "mimetype": "text/x-python",
   "name": "python",
   "nbconvert_exporter": "python",
   "pygments_lexer": "ipython3",
   "version": "3.5.1"
  }
 },
 "nbformat": 4,
 "nbformat_minor": 0
}
