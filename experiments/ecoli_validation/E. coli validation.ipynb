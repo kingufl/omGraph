{
 "cells": [
  {
   "cell_type": "code",
   "execution_count": 1,
   "metadata": {
    "collapsed": false
   },
   "outputs": [
    {
     "name": "stderr",
     "output_type": "stream",
     "text": [
      "/s/chopin/l/grad/muggli/py3.5env/lib/python3.5/site-packages/Bio/SearchIO/__init__.py:211: BiopythonExperimentalWarning: Bio.SearchIO is an experimental submodule which may undergo significant changes prior to its future official release.\n",
      "  BiopythonExperimentalWarning)\n"
     ]
    }
   ],
   "source": [
    "import Bio\n",
    "import Bio.Restriction\n",
    "import Bio.SeqIO\n",
    "import Bio.SearchIO\n",
    "import random\n",
    "import matplotlib.pyplot as plt\n",
    "%matplotlib inline"
   ]
  },
  {
   "cell_type": "code",
   "execution_count": 2,
   "metadata": {
    "collapsed": false
   },
   "outputs": [
    {
     "name": "stderr",
     "output_type": "stream",
     "text": [
      "/s/chopin/l/grad/muggli/py3.5env/lib/python3.5/site-packages/ipykernel/__main__.py:1: DeprecationWarning: 'U' mode is deprecated\n",
      "  if __name__ == '__main__':\n"
     ]
    }
   ],
   "source": [
    "with open(\"../ecoli_ref.fa\", \"rU\") as ref_handle:\n",
    "    for ref_seq in Bio.SeqIO.parse(ref_handle, \"fasta\"): # iterate through the all (in this case one) seqs in the fasta file\n",
    "        ecoli = ref_seq"
   ]
  },
  {
   "cell_type": "code",
   "execution_count": 3,
   "metadata": {
    "collapsed": false
   },
   "outputs": [],
   "source": [
    "random.seed(12345)\n",
    "loci = [random.randint(0,len(ecoli)) for x in range(100)]\n",
    "loci.sort()\n",
    "\n",
    "diffs = [y - x for x,y in zip(loci[:-1], loci[1:])]\n",
    "min(diffs)\n",
    "loci.reverse()"
   ]
  },
  {
   "cell_type": "code",
   "execution_count": 19,
   "metadata": {
    "collapsed": false
   },
   "outputs": [
    {
     "data": {
      "text/plain": [
       "Bio.SeqRecord.SeqRecord"
      ]
     },
     "execution_count": 19,
     "metadata": {},
     "output_type": "execute_result"
    }
   ],
   "source": [
    "type(ecoli)"
   ]
  },
  {
   "cell_type": "code",
   "execution_count": 35,
   "metadata": {
    "collapsed": false
   },
   "outputs": [],
   "source": [
    "mutable_variant =variant.seq.seq.tomutable()"
   ]
  },
  {
   "cell_type": "code",
   "execution_count": 48,
   "metadata": {
    "collapsed": true
   },
   "outputs": [],
   "source": [
    "# boring work taken from http://stackoverflow.com/questions/21205836/generating-random-sequences-of-dna\n",
    "\n",
    "def DNA(length):\n",
    "    return ''.join(random.choice('CGTA') for _ in range(length))"
   ]
  },
  {
   "cell_type": "code",
   "execution_count": 64,
   "metadata": {
    "collapsed": false
   },
   "outputs": [],
   "source": [
    "# >var_1_5p_flank length:35 INFO:KMER=31\n",
    "# GTCAGTTCTGTTCTTGAGTTCACTGTCGCTTCAGA\n",
    "# >var_1_branch_1 length:32 kmer:31\n",
    "# ATGGATGGCTCCTCTGCTCTCCGCTGCCAGAG\n",
    "# >var_1_branch_2 length:32 kmer:31\n",
    "# TTGGATGGCTCCTCTGCTCTCCGCTGCCAGAG\n",
    "# >var_1_3p_flank length:33 kmer:31\n",
    "# TGGCATCGTGCTCGCTCTGCTGGGTTGCCAATT\n",
    "\n",
    "bubbles=open(\"bubbles.txt\", \"w\")\n",
    "\n",
    "flank_size = 40\n",
    "for lno, locus in enumerate(loci):\n",
    "    bubbles.write(\">var_\" +str(lno+1)+ \"_5p_flank length:\"+str(flank_size)+\" INFO:KMER=31\\n\")\n",
    "    bubbles.write(str(ecoli[locus-flank_size:locus].seq) + \"\\n\")\n",
    "    varsize = random.randint(200,500)\n",
    "    vartype = random.randint(1,3)\n",
    "    if vartype == 1: # insertion\n",
    "        newdna = DNA(varsize)\n",
    "        mutable_variant[locus:locus] = newdna\n",
    "        bubbles.write(\">var_\" +str(lno+1)+ \"_branch_1 length:\"+str(varsize)+\" kmer:31\\n\")\n",
    "        bubbles.write(newdna + \"\\n\")\n",
    "        bubbles.write(\">var_\" +str(lno+1)+ \"_branch_2 length:\"+str(0)+\" kmer:31\\n\")\n",
    "        bubbles.write(\"\\n\")\n",
    "        right_flank = ecoli[locus:locus+flank_size]\n",
    "    elif vartype == 2: # deletion\n",
    "        mutable_variant[locus:locus+varsize] = \"\"\n",
    "        bubbles.write(\">var_\" +str(lno+1)+ \"_branch_1 length:\"+str(0)+\" kmer:31\\n\")\n",
    "        bubbles.write( \"\\n\")\n",
    "        bubbles.write(\">var_\" +str(lno+1)+ \"_branch_2 length:\"+str(varsize)+\" kmer:31\\n\")\n",
    "        bubbles.write(str(ecoli[locus:locus+varsize].seq) + \"\\n\")\n",
    "        right_flank = ecoli[locus+varsize:locus+varsize+flank_size]\n",
    "    else: # substitution\n",
    "        newdna = DNA(varsize)\n",
    "        mutable_variant[locus:locus+varsize] = newdna\n",
    "        bubbles.write(\">var_\" +str(lno+1)+ \"_branch_1 length:\"+str(varsize)+\" kmer:31\\n\")\n",
    "        bubbles.write(newdna + \"\\n\")        \n",
    "        bubbles.write(\">var_\" +str(lno+1)+ \"_branch_2 length:\"+str(varsize)+\" kmer:31\\n\")\n",
    "        bubbles.write(str(ecoli[locus:locus+varsize].seq) + \"\\n\")\n",
    "        right_flank = ecoli[locus+varsize:locus+varsize+flank_size]\n",
    "    bubbles.write(\">var_\" +str(lno+1)+ \"_3p_flank length:\"+str(flank_size)+\" INFO:KMER=31\\n\")\n",
    "    bubbles.write(str(right_flank.seq) + \"\\n\")\n",
    "bubbles.close()\n",
    "    "
   ]
  },
  {
   "cell_type": "code",
   "execution_count": 65,
   "metadata": {
    "collapsed": false
   },
   "outputs": [
    {
     "name": "stdout",
     "output_type": "stream",
     "text": [
      ">var_1_5p_flank length:40 INFO:KMER=31\r\n",
      "TGGCATCGTTATTGCTGGAAACCGACGCGCCGGATATGCC\r\n",
      ">var_1_branch_1 length:268 kmer:31\r\n",
      "GCTTCCTGCCGTGCTAGGGACCCGTTCATCAGTGAGCGAACCCCGACTGACCTCGTACAATTACCGGACGAACTGTTTACCTGGTTCCACAGTGTAAGATTCAACGACGGTAACATTTATCCGAGCGGTTGCCTCATCATTGTTGGTGAGTATCATGACATTGTTAGGAACCGAAAAGTGGACAGGAGCGACCCTCACAAAAGAACGAAGTATAGCGAATGTGTGGGATACCGGACCCCGACACGAGGTCTCCCCCGCGAGGAAAGTC\r\n",
      ">var_1_branch_2 length:0 kmer:31\r\n",
      "\r\n",
      ">var_1_3p_flank length:40 INFO:KMER=31\r\n",
      "GCTCAACGGTTTTCAGGGGCAGCCTAACCGCCCGGAGCAG\r\n",
      ">var_2_5p_flank length:40 INFO:KMER=31\r\n",
      "GCGTCACGGTTTCCGGGGTTAAGTCCTGACCCGTCAGATC\r\n"
     ]
    }
   ],
   "source": [
    "!head bubbles.txt"
   ]
  },
  {
   "cell_type": "code",
   "execution_count": 66,
   "metadata": {
    "collapsed": false
   },
   "outputs": [],
   "source": [
    "newecoli = Bio.SeqRecord.SeqRecord(mutable_variant)"
   ]
  },
  {
   "cell_type": "code",
   "execution_count": 71,
   "metadata": {
    "collapsed": false
   },
   "outputs": [],
   "source": [
    "with open(\"ecoli_variant.fasta\", \"w\") as output_handle:\n",
    "    Bio.SeqIO.write(newecoli, output_handle, \"fasta\")"
   ]
  },
  {
   "cell_type": "code",
   "execution_count": 70,
   "metadata": {
    "collapsed": false
   },
   "outputs": [
    {
     "name": "stdout",
     "output_type": "stream",
     "text": [
      "><unknown id> <unknown description>\r\n",
      "AGCTTTTCATTCTGACTGCAACGGGCAATATGTCTCTGTGTGGATTAAAAAAAGAGTGTC\r\n",
      "TGATAGCAGCTTCTGAACTGGTTACCTGCCGTGAGTAAATTAAAATTTTATTGACTTAGG\r\n",
      "TCACTAAATACTTTAACCAATATAGGCATAGCGCACAGACAGATAAAAATTACAGAGTAC\r\n",
      "ACAACATCCATGAAACGCATTAGCACCACCATTACCACCACCATCACCATTACCACAGGT\r\n",
      "AACGGTGCGGGCTGACGCGTACAGGAAACACAGAAAAAAGCCCGCACCTGACAGTGCGGG\r\n",
      "CTTTTTTTTTCGACCAAAGGTAACGAGGTAACAACCATGCGAGTGTTGAAGTTCGGCGGT\r\n",
      "ACATCAGTGGCAAATGCAGAACGTTTTCTGCGTGTTGCCGATATTCTGGAAAGCAATGCC\r\n",
      "AGGCAGGGGCAGGTGGCCACCGTCCTCTCTGCCCCCGCCAAAATCACCAACCACCTGGTG\r\n",
      "GCGATGATTGAAAAAACCATTAGCGGCCAGGATGCTTTACCCAATATCAGCGATGCCGAA\r\n"
     ]
    }
   ],
   "source": [
    "!head ecolie_variant.fasta"
   ]
  }
 ],
 "metadata": {
  "kernelspec": {
   "display_name": "Python 3",
   "language": "python",
   "name": "python3"
  },
  "language_info": {
   "codemirror_mode": {
    "name": "ipython",
    "version": 3
   },
   "file_extension": ".py",
   "mimetype": "text/x-python",
   "name": "python",
   "nbconvert_exporter": "python",
   "pygments_lexer": "ipython3",
   "version": "3.5.1"
  }
 },
 "nbformat": 4,
 "nbformat_minor": 0
}
